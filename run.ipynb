{
 "cells": [
  {
   "cell_type": "code",
   "execution_count": 4,
   "id": "74896c08",
   "metadata": {},
   "outputs": [],
   "source": [
    "from components.embeddings import HFembedding, OpenAIembedding\n",
    "from components.data_chunker import ReadFile\n",
    "from components.databases import VectorDB\n",
    "import os\n",
    "import json\n",
    "from typing import Dict, List, Optional, Tuple, Union\n",
    "import PyPDF2"
   ]
  },
  {
   "cell_type": "code",
   "execution_count": 12,
   "id": "83750b01",
   "metadata": {
    "scrolled": true
   },
   "outputs": [],
   "source": [
    "filter=ReadFile('./data')\n",
    "docs=filter.get_all_chunk_content(200,150)\n",
    "docs"
   ]
  },
  {
   "cell_type": "code",
   "execution_count": 9,
   "id": "c510ef39",
   "metadata": {},
   "outputs": [
    {
     "data": {
      "application/vnd.jupyter.widget-view+json": {
       "model_id": "8a1a87448da34f6ca44a03c1890efe3a",
       "version_major": 2,
       "version_minor": 0
      },
      "text/plain": [
       "VBox(children=(HTML(value='<center> <img\\nsrc=https://huggingface.co/front/assets/huggingface_logo-noborder.sv…"
      ]
     },
     "metadata": {},
     "output_type": "display_data"
    }
   ],
   "source": [
    "from huggingface_hub import login\n",
    "login()"
   ]
  },
  {
   "cell_type": "code",
   "execution_count": 13,
   "id": "de34bb0b",
   "metadata": {},
   "outputs": [],
   "source": [
    "hf = HFembedding(path = \"microsoft/Phi-3-mini-4k-instruct\")\n",
    "\n",
    "db = VectorDB(docs)\n",
    "vectors = db.get_vector(hf)\n",
    "db.persist()\n",
    "db.load_vector()\n",
    "res = db.query(\"What did Joe Biden do in June 2024\",hf,3)\n",
    "res"
   ]
  },
  {
   "cell_type": "code",
   "execution_count": null,
   "id": "36935b70",
   "metadata": {},
   "outputs": [],
   "source": [
    "q1 = \"What happend to Joe Biden in July 2024?\"\n",
    "info1 = db.query(q1, hf, 3)\n",
    "\n",
    "msg1 = [\n",
    "    (\"system\", \"Please refer to the following content: {}\".info),\n",
    "    (\"human\", q1),\n",
    "]\n",
    "\n",
    "chat.invoke(msg1).content"
   ]
  },
  {
   "cell_type": "code",
   "execution_count": null,
   "id": "72fcd829",
   "metadata": {},
   "outputs": [],
   "source": [
    "q2 = \"Who will replace Biden after withdrew his candidacy?\"\n",
    "info1 = db.query(q2, hf, 3)\n",
    "\n",
    "msg2 = [\n",
    "    (\"system\", \"Please refer to the following content: {}\".format(info)),\n",
    "    (\"human\", q2),\n",
    "]\n",
    "\n",
    "chat.invoke(msg1).content"
   ]
  },
  {
   "cell_type": "markdown",
   "id": "f2bd83c7",
   "metadata": {},
   "source": [
    "## Live Demo of Chat Bot"
   ]
  },
  {
   "cell_type": "code",
   "execution_count": null,
   "id": "5d844e59",
   "metadata": {},
   "outputs": [],
   "source": [
    "from langchain_huggingface import HuggingFaceEndpoint, ChatHuggingFace\n",
    "\n",
    "llm = HuggingFaceEndpoint(\n",
    "    repo_id=\"microsoft/Phi-3-mini-4k-instruct\",\n",
    "    task=\"text-generation\",\n",
    "    max_new_tokens=512,\n",
    "    do_sample=False,\n",
    "    repetition_penalty=1.03,\n",
    ")\n",
    "\n",
    "chat = ChatHuggingFace(llm=llm, verbose=True)"
   ]
  },
  {
   "cell_type": "code",
   "execution_count": null,
   "id": "9e296f03",
   "metadata": {},
   "outputs": [],
   "source": [
    "import gradio as gr\n",
    "import time\n",
    "\n",
    "\n",
    "def echo(message, history):\n",
    "    info = db.query(message,hf,3)\n",
    "    messages = [\n",
    "    (\"system\", \"Please refer to the following content: {}\".format(info)),\n",
    "    (\"human\", message),\n",
    "]\n",
    "    result=chat.invoke(messages).content\n",
    "    for i in range(len(result)):\n",
    "        time.sleep(0.02)\n",
    "        yield result[: i+1]\n",
    "\n",
    "\n",
    "\n",
    "demo = gr.ChatInterface(fn=echo, \n",
    "                        examples=[\"What happend to Joe Biden in July 2024\", \n",
    "                                  \"Who will replace Biden after withdrew his candidacy?\"], \n",
    "                        title=\"Chat Bot\",\n",
    "                        theme=\"soft\")\n",
    "demo.launch()"
   ]
  }
 ],
 "metadata": {
  "kernelspec": {
   "display_name": "Python 3 (ipykernel)",
   "language": "python",
   "name": "python3"
  },
  "language_info": {
   "codemirror_mode": {
    "name": "ipython",
    "version": 3
   },
   "file_extension": ".py",
   "mimetype": "text/x-python",
   "name": "python",
   "nbconvert_exporter": "python",
   "pygments_lexer": "ipython3",
   "version": "3.11.7"
  },
  "varInspector": {
   "cols": {
    "lenName": 16,
    "lenType": 16,
    "lenVar": 40
   },
   "kernels_config": {
    "python": {
     "delete_cmd_postfix": "",
     "delete_cmd_prefix": "del ",
     "library": "var_list.py",
     "varRefreshCmd": "print(var_dic_list())"
    },
    "r": {
     "delete_cmd_postfix": ") ",
     "delete_cmd_prefix": "rm(",
     "library": "var_list.r",
     "varRefreshCmd": "cat(var_dic_list()) "
    }
   },
   "types_to_exclude": [
    "module",
    "function",
    "builtin_function_or_method",
    "instance",
    "_Feature"
   ],
   "window_display": false
  }
 },
 "nbformat": 4,
 "nbformat_minor": 5
}
